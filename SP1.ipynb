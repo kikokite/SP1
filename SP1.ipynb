{
 "cells": [
  {
   "cell_type": "markdown",
   "metadata": {},
   "source": [
    "# Security & Privacy (CC2009) - 2023/2024\n",
    "\n",
    "## ASSIGNMENT #1: Performance Benchmarking of Cryptographic Mechanisms\n",
    "\n",
    "### Due date: March 22, 23:59\n",
    "### Grading: Assignment #1 is worth 2 points"
   ]
  },
  {
   "cell_type": "markdown",
   "metadata": {},
   "source": [
    "In this exercise you should measure the time AES, RSA and SHA take to process files of different sizes, using a\n",
    "python implementation of the encryption/description and hash mechanisms.\n",
    "Some notes:\n",
    "- You should measure the time of cryptographic operations/algorithms only, not including the time for generation\n",
    "of files and others side aspects.\n",
    "- If you use padding, this may affect the results specially for small file sizes"
   ]
  },
  {
   "cell_type": "markdown",
   "metadata": {},
   "source": [
    "-------------------------------------------------------------------------------------------------------------------------------------"
   ]
  },
  {
   "cell_type": "markdown",
   "metadata": {},
   "source": [
    "A. Generate random text files with the following sizes:\n",
    "- For AES (in bytes): 8, 64, 512, 4096, 32768, 262144, 2097152 \n",
    "- For SHA (in bytes): 8, 64, 512, 4096, 32768, 262144, 2097152 \n",
    "- For RSA (in bytes): 2, 4, 8, 16, 32, 64, 128\n"
   ]
  },
  {
   "cell_type": "code",
   "execution_count": 13,
   "metadata": {},
   "outputs": [],
   "source": [
    "import os\n",
    "\n",
    "# Sizes in bytes\n",
    "file_sizes_aes = [8, 64, 512, 4096, 32768, 262144, 2097152]\n",
    "file_sizes_sha = [8, 64, 512, 4096, 32768, 262144, 2097152]\n",
    "file_sizes_rsa = [2, 4, 8, 16, 32, 64, 128]\n",
    "\n",
    "def generate_random_text_file(size_bytes):\n",
    "    return os.urandom(size_bytes)\n",
    "\n",
    "# Generate random text files for aes\n",
    "for size in file_sizes_aes:\n",
    "    with open(f\"aes_{size}.txt\", \"wb\") as f:\n",
    "        f.write(generate_random_text_file(size))\n",
    "\n",
    "# Generate random text files for sha\n",
    "for size in file_sizes_sha:\n",
    "    with open(f\"sha_{size}.txt\", \"wb\") as f:\n",
    "        f.write(generate_random_text_file(size))\n",
    "\n",
    "# Generate random text files for rsa\n",
    "for size in file_sizes_rsa:\n",
    "    with open(f\"rsa{size}.txt\", \"wb\") as f:\n",
    "        f.write(generate_random_text_file(size))"
   ]
  },
  {
   "cell_type": "markdown",
   "metadata": {},
   "source": [
    "-------------------------------------------------------------------------------------------------------------------------------------"
   ]
  },
  {
   "cell_type": "markdown",
   "metadata": {},
   "source": [
    "B. Encrypt and decrypt all these files using AES. Employ a key of 256 bits. Measure the time it takes to encrypt\n",
    "and decrypt each of the files. To do this, you might want to use the python module timeit.\n",
    "Make sure to produce statistically significant results. Do results change if you run a fixed algorithm over\n",
    "the same file multiple times? And what if you run an algorithm over multiple randomly generated files\n",
    "of fixed size?"
   ]
  },
  {
   "cell_type": "code",
   "execution_count": null,
   "metadata": {},
   "outputs": [],
   "source": []
  },
  {
   "cell_type": "markdown",
   "metadata": {},
   "source": [
    "-------------------------------------------------------------------------------------------------------------------------------------"
   ]
  },
  {
   "cell_type": "markdown",
   "metadata": {},
   "source": [
    "C. Using the python module for RSA encryption and decryption, measure the time of RSA encryption and decryption\n",
    "for the file sizes listed in part A, with a key of size 2048 bits (minimum recommended for RSA)."
   ]
  },
  {
   "cell_type": "code",
   "execution_count": null,
   "metadata": {},
   "outputs": [],
   "source": []
  },
  {
   "cell_type": "markdown",
   "metadata": {},
   "source": [
    "-------------------------------------------------------------------------------------------------------------------------------------"
   ]
  },
  {
   "cell_type": "markdown",
   "metadata": {},
   "source": [
    "D. Measure the time for SHA-256 hash generation for the file sizes listed in part a."
   ]
  },
  {
   "cell_type": "code",
   "execution_count": 14,
   "metadata": {},
   "outputs": [
    {
     "name": "stdout",
     "output_type": "stream",
     "text": [
      "AES Times: [0.0001308917999267578, 4.410743713378906e-05, 4.220008850097656e-05, 7.295608520507812e-05, 0.0003218650817871094, 0.001026153564453125, 0.007731199264526367]\n",
      "SHA Times: [3.910064697265625e-05, 5.7220458984375e-06, 5.245208740234375e-06, 5.9604644775390625e-06, 2.002716064453125e-05, 0.0001621246337890625, 0.0009579658508300781]\n",
      "RSA Times: [0.0024309158325195312, 0.0011699199676513672, 0.0011670589447021484, 0.0011599063873291016, 0.0011391639709472656, 0.0011801719665527344, 0.0011858940124511719]\n"
     ]
    }
   ],
   "source": [
    "import time\n",
    "from cryptography.hazmat.backends import default_backend\n",
    "from cryptography.hazmat.primitives import hashes\n",
    "from cryptography.hazmat.primitives.asymmetric import rsa\n",
    "from cryptography.hazmat.primitives import serialization\n",
    "from cryptography.hazmat.primitives.asymmetric import padding\n",
    "from cryptography.hazmat.primitives.ciphers import Cipher, algorithms, modes\n",
    "import os\n",
    "\n",
    "def time_aes(file_sizes):\n",
    "    backend = default_backend()\n",
    "    key = os.urandom(32)  # 256-bit key\n",
    "    iv = os.urandom(16)   # 128-bit IV\n",
    "    times = []\n",
    "    for size in file_sizes:\n",
    "        data = generate_random_text_file(size)\n",
    "        start_time = time.time()\n",
    "        cipher = Cipher(algorithms.AES(key), modes.CFB(iv), backend=backend)\n",
    "        encryptor = cipher.encryptor()\n",
    "        ciphertext = encryptor.update(data) + encryptor.finalize()\n",
    "        decryptor = cipher.decryptor()\n",
    "        plaintext = decryptor.update(ciphertext) + decryptor.finalize()\n",
    "        end_time = time.time()\n",
    "        times.append(end_time - start_time)\n",
    "    return times\n",
    "\n",
    "def time_sha(file_sizes):\n",
    "    times = []\n",
    "    for size in file_sizes:\n",
    "        data = generate_random_text_file(size)\n",
    "        start_time = time.time()\n",
    "        hash_obj = hashes.Hash(hashes.SHA256())\n",
    "        hash_obj.update(data)\n",
    "        hash_result = hash_obj.finalize()\n",
    "        end_time = time.time()\n",
    "        times.append(end_time - start_time)\n",
    "    return times\n",
    "\n",
    "def time_rsa(file_sizes):\n",
    "    private_key = rsa.generate_private_key(\n",
    "        public_exponent=65537,\n",
    "        key_size=2048,\n",
    "        backend=default_backend()\n",
    "    )\n",
    "    public_key = private_key.public_key()\n",
    "    times = []\n",
    "    for size in file_sizes:\n",
    "        data = generate_random_text_file(size)\n",
    "        start_time = time.time()\n",
    "        ciphertext = public_key.encrypt(\n",
    "            data,\n",
    "            padding.OAEP(\n",
    "                mgf=padding.MGF1(algorithm=hashes.SHA256()),\n",
    "                algorithm=hashes.SHA256(),\n",
    "                label=None\n",
    "            )\n",
    "        )\n",
    "        plaintext = private_key.decrypt(\n",
    "            ciphertext,\n",
    "            padding.OAEP(\n",
    "                mgf=padding.MGF1(algorithm=hashes.SHA256()),\n",
    "                algorithm=hashes.SHA256(),\n",
    "                label=None\n",
    "            )\n",
    "        )\n",
    "        end_time = time.time()\n",
    "        times.append(end_time - start_time)\n",
    "    return times\n",
    "\n",
    "\n",
    "print(\"AES Times:\", time_aes(file_sizes_aes))\n",
    "print(\"SHA Times:\", time_sha(file_sizes_sha))\n",
    "print(\"RSA Times:\", time_rsa(file_sizes_rsa))\n"
   ]
  },
  {
   "cell_type": "markdown",
   "metadata": {},
   "source": [
    "-------------------------------------------------------------------------------------------------------------------------------------"
   ]
  },
  {
   "cell_type": "markdown",
   "metadata": {},
   "source": [
    "E. Prepare a report of your observations, including the following information:\n",
    "- Code implemented for points b., c., and d. above\n",
    "- Brief explanation of the main components of the code (the rest should be submitted in a separate compressed\n",
    "file)\n",
    "- Explain how you generated/obtained the results – must be statistically significant. This must include a\n",
    "description of the experimental setup (e.g. computer characteristics, OS, software versions).\n",
    "- Plots showing: (i) AES encryption/decryption times; (ii) RSA encryption times; (iii) RSA decryption times;\n",
    "and (iv) SHA digests generation times (plots can be combined for easier comparison). In these graphs, the\n",
    "X axis should plot the file sizes in units of bytes, and the Y axis should plot time measurements in units of\n",
    "microseconds (us).\n",
    "1\n",
    "- The report should also analyze and explain the performance results of:\n",
    "    - Comparison between AES encryption and RSA encryption.\n",
    "    - Comparison between AES encryption and SHA digest generation.\n",
    "    - Comparison between RSA encryption and decryption times."
   ]
  },
  {
   "cell_type": "markdown",
   "metadata": {},
   "source": []
  }
 ],
 "metadata": {
  "kernelspec": {
   "display_name": "Python 3",
   "language": "python",
   "name": "python3"
  },
  "language_info": {
   "codemirror_mode": {
    "name": "ipython",
    "version": 3
   },
   "file_extension": ".py",
   "mimetype": "text/x-python",
   "name": "python",
   "nbconvert_exporter": "python",
   "pygments_lexer": "ipython3",
   "version": "3.9.6"
  }
 },
 "nbformat": 4,
 "nbformat_minor": 2
}
