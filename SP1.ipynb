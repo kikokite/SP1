{
 "cells": [
  {
   "cell_type": "markdown",
   "metadata": {},
   "source": [
    "# Security & Privacy (CC2009) - 2023/2024\n",
    "\n",
    "## ASSIGNMENT #1: Performance Benchmarking of Cryptographic Mechanisms\n",
    "\n",
    "### Due date: March 22, 23:59\n",
    "### Grading: Assignment #1 is worth 2 points"
   ]
  },
  {
   "cell_type": "markdown",
   "metadata": {},
   "source": [
    "In this exercise you should measure the time AES, RSA and SHA take to process files of different sizes, using a\n",
    "python implementation of the encryption/description and hash mechanisms.\n",
    "Some notes:\n",
    "- You should measure the time of cryptographic operations/algorithms only, not including the time for generation\n",
    "of files and others side aspects.\n",
    "- If you use padding, this may affect the results specially for small file sizes"
   ]
  },
  {
   "cell_type": "markdown",
   "metadata": {},
   "source": [
    "-------------------------------------------------------------------------------------------------------------------------------------"
   ]
  },
  {
   "cell_type": "markdown",
   "metadata": {},
   "source": [
    "A. Generate random text files with the following sizes:\n",
    "- For AES (in bytes): 8, 64, 512, 4096, 32768, 262144, 2097152 \n",
    "- For SHA (in bytes): 8, 64, 512, 4096, 32768, 262144, 2097152 \n",
    "- For RSA (in bytes): 2, 4, 8, 16, 32, 64, 128\n"
   ]
  },
  {
   "cell_type": "code",
   "execution_count": 26,
   "metadata": {},
   "outputs": [],
   "source": [
    "import os\n",
    "\n",
    "# Sizes in bytes\n",
    "file_sizes_aes = [8, 64, 512, 4096, 32768, 262144, 2097152]\n",
    "file_sizes_sha = [8, 64, 512, 4096, 32768, 262144, 2097152]\n",
    "file_sizes_rsa = [2, 4, 8, 16, 32, 64, 128]\n",
    "\n",
    "def generate_random_text_file(size_bytes):\n",
    "    return os.urandom(size_bytes)\n",
    "\n",
    "# Generate random text files for aes\n",
    "for size in file_sizes_aes:\n",
    "    with open(f\"aes_{size}.txt\", \"wb\") as f:\n",
    "        f.write(generate_random_text_file(size))\n",
    "\n",
    "# Generate random text files for sha\n",
    "for size in file_sizes_sha:\n",
    "    with open(f\"sha_{size}.txt\", \"wb\") as f:\n",
    "        f.write(generate_random_text_file(size))\n",
    "\n",
    "# Generate random text files for rsa\n",
    "for size in file_sizes_rsa:\n",
    "    with open(f\"rsa{size}.txt\", \"wb\") as f:\n",
    "        f.write(generate_random_text_file(size))"
   ]
  },
  {
   "cell_type": "markdown",
   "metadata": {},
   "source": [
    "-------------------------------------------------------------------------------------------------------------------------------------"
   ]
  },
  {
   "cell_type": "markdown",
   "metadata": {},
   "source": [
    "B. Encrypt and decrypt all these files using AES. Employ a key of 256 bits. Measure the time it takes to encrypt\n",
    "and decrypt each of the files. To do this, you might want to use the python module timeit.\n",
    "Make sure to produce statistically significant results. Do results change if you run a fixed algorithm over\n",
    "the same file multiple times? And what if you run an algorithm over multiple randomly generated files\n",
    "of fixed size?"
   ]
  },
  {
   "cell_type": "code",
   "execution_count": 27,
   "metadata": {},
   "outputs": [
    {
     "name": "stdout",
     "output_type": "stream",
     "text": [
      "Encryption times (in seconds):\n",
      "AES 8 bytes: 0.000526\n",
      "AES 64 bytes: 0.000250\n",
      "AES 512 bytes: 0.000103\n",
      "AES 4096 bytes: 0.000170\n",
      "AES 32768 bytes: 0.000135\n",
      "AES 262144 bytes: 0.000194\n",
      "AES 2097152 bytes: 0.001787\n",
      "\n",
      "Decryption times (in seconds):\n",
      "AES 8 bytes: 0.000203\n",
      "AES 64 bytes: 0.000113\n",
      "AES 512 bytes: 0.000098\n",
      "AES 4096 bytes: 0.000164\n",
      "AES 32768 bytes: 0.000103\n",
      "AES 262144 bytes: 0.000174\n",
      "AES 2097152 bytes: 0.001443\n"
     ]
    }
   ],
   "source": [
    "import os\n",
    "import random\n",
    "import string\n",
    "import timeit\n",
    "from cryptography.hazmat.primitives.ciphers import Cipher, algorithms, modes\n",
    "from cryptography.hazmat.backends import default_backend\n",
    "\n",
    "\n",
    "def encrypt_file_aes(input_file, output_file, key):\n",
    "    with open(input_file, 'rb') as f:\n",
    "        plaintext = f.read()\n",
    "    padded_plaintext = pad(plaintext, algorithms.AES.block_size)\n",
    "    cipher = Cipher(algorithms.AES(key), modes.ECB(), backend=default_backend())\n",
    "    encryptor = cipher.encryptor()\n",
    "    encrypted_data = encryptor.update(padded_plaintext) + encryptor.finalize()\n",
    "    with open(output_file, 'wb') as f:\n",
    "        f.write(encrypted_data)\n",
    "\n",
    "def decrypt_file_aes(input_file, output_file, key):\n",
    "    with open(input_file, 'rb') as f:\n",
    "        encrypted_data = f.read()\n",
    "    cipher = Cipher(algorithms.AES(key), modes.ECB(), backend=default_backend())\n",
    "    decryptor = cipher.decryptor()\n",
    "    decrypted_data = decryptor.update(encrypted_data) + decryptor.finalize()\n",
    "    with open(output_file, 'wb') as f:\n",
    "        f.write(decrypted_data.rstrip(b'\\x00'))\n",
    "\n",
    "def pad(data, block_size):\n",
    "    padding_length = block_size - (len(data) % block_size)\n",
    "    return data + bytes([padding_length] * padding_length)\n",
    "\n",
    "# Key for AES encryption and decryption (256-bit key)\n",
    "key = os.urandom(32) \n",
    "\n",
    "# Dictionary to store encryption and decryption times for each file size\n",
    "encryption_times = {}\n",
    "decryption_times = {}\n",
    "\n",
    "# Repeat each operation multiple times to get statistically significant results\n",
    "num_runs = 10\n",
    "\n",
    "# Encrypt and decrypt each file size\n",
    "for size in aes_sizes:\n",
    "    input_file = f\"aes_{size}.txt\"\n",
    "    encrypted_file = f\"aes_{size}_encrypted.txt\"\n",
    "    decrypted_file = f\"aes_{size}_decrypted.txt\"\n",
    "        \n",
    "    # Measure encryption time\n",
    "    encryption_time = timeit.timeit(lambda: encrypt_file_aes(input_file, encrypted_file, key), number=num_runs)\n",
    "    encryption_times[size] = encryption_time / num_runs\n",
    "    \n",
    "    # Measure decryption time\n",
    "    decryption_time = timeit.timeit(lambda: decrypt_file_aes(encrypted_file, decrypted_file, key), number=num_runs)\n",
    "    decryption_times[size] = decryption_time / num_runs\n",
    "    \n",
    "    # Delete generated files\n",
    "    os.remove(input_file)\n",
    "    os.remove(encrypted_file)\n",
    "    os.remove(decrypted_file)\n",
    "\n",
    "# Display encryption and decryption times\n",
    "print(\"Encryption times (in seconds):\")\n",
    "for size, time in encryption_times.items():\n",
    "    print(f\"AES {size} bytes: {time:.6f}\")\n",
    "    \n",
    "print(\"\\nDecryption times (in seconds):\")\n",
    "for size, time in decryption_times.items():\n",
    "    print(f\"AES {size} bytes: {time:.6f}\")\n"
   ]
  },
  {
   "cell_type": "markdown",
   "metadata": {},
   "source": [
    "-------------------------------------------------------------------------------------------------------------------------------------"
   ]
  },
  {
   "cell_type": "markdown",
   "metadata": {},
   "source": [
    "C. Using the python module for RSA encryption and decryption, measure the time of RSA encryption and decryption\n",
    "for the file sizes listed in part A, with a key of size 2048 bits (minimum recommended for RSA)."
   ]
  },
  {
   "cell_type": "code",
   "execution_count": null,
   "metadata": {},
   "outputs": [],
   "source": []
  },
  {
   "cell_type": "markdown",
   "metadata": {},
   "source": [
    "-------------------------------------------------------------------------------------------------------------------------------------"
   ]
  },
  {
   "cell_type": "markdown",
   "metadata": {},
   "source": [
    "D. Measure the time for SHA-256 hash generation for the file sizes listed in part a."
   ]
  },
  {
   "cell_type": "code",
   "execution_count": 28,
   "metadata": {},
   "outputs": [
    {
     "name": "stdout",
     "output_type": "stream",
     "text": [
      "AES Times: [0.00012087821960449219, 3.5762786865234375e-05, 5.817413330078125e-05, 0.00013303756713867188, 0.0004799365997314453, 0.0006990432739257812, 0.00762176513671875]\n",
      "SHA Times: [3.62396240234375e-05, 5.245208740234375e-06, 3.814697265625e-06, 5.0067901611328125e-06, 1.6927719116210938e-05, 0.00013399124145507812, 0.0009448528289794922]\n",
      "RSA Times: [0.0023071765899658203, 0.0010769367218017578, 0.0010671615600585938, 0.0010769367218017578, 0.0010650157928466797, 0.0011157989501953125, 0.0011379718780517578]\n"
     ]
    }
   ],
   "source": [
    "import time\n",
    "from cryptography.hazmat.backends import default_backend\n",
    "from cryptography.hazmat.primitives import hashes\n",
    "from cryptography.hazmat.primitives.asymmetric import rsa\n",
    "from cryptography.hazmat.primitives import serialization\n",
    "from cryptography.hazmat.primitives.asymmetric import padding\n",
    "from cryptography.hazmat.primitives.ciphers import Cipher, algorithms, modes\n",
    "import os\n",
    "\n",
    "def time_aes(file_sizes):\n",
    "    backend = default_backend()\n",
    "    key = os.urandom(32)  # 256-bit key\n",
    "    iv = os.urandom(16)   # 128-bit IV\n",
    "    times = []\n",
    "    for size in file_sizes:\n",
    "        data = generate_random_text_file(size)\n",
    "        start_time = time.time()\n",
    "        cipher = Cipher(algorithms.AES(key), modes.CBC(iv), backend=backend)\n",
    "        encryptor = cipher.encryptor()\n",
    "        ciphertext = encryptor.update(data) + encryptor.finalize()\n",
    "        decryptor = cipher.decryptor()\n",
    "        plaintext = decryptor.update(ciphertext) + decryptor.finalize()\n",
    "        end_time = time.time()\n",
    "        times.append(end_time - start_time)\n",
    "    return times\n",
    "\n",
    "def time_sha(file_sizes):\n",
    "    times = []\n",
    "    for size in file_sizes:\n",
    "        data = generate_random_text_file(size)\n",
    "        start_time = time.time()\n",
    "        hash_obj = hashes.Hash(hashes.SHA256())\n",
    "        hash_obj.update(data)\n",
    "        hash_result = hash_obj.finalize()\n",
    "        end_time = time.time()\n",
    "        times.append(end_time - start_time)\n",
    "    return times\n",
    "\n",
    "def time_rsa(file_sizes):\n",
    "    private_key = rsa.generate_private_key(\n",
    "        public_exponent=65537,\n",
    "        key_size=2048,\n",
    "        backend=default_backend()\n",
    "    )\n",
    "    public_key = private_key.public_key()\n",
    "    times = []\n",
    "    for size in file_sizes:\n",
    "        data = generate_random_text_file(size)\n",
    "        start_time = time.time()\n",
    "        ciphertext = public_key.encrypt(\n",
    "            data,\n",
    "            padding.OAEP(\n",
    "                mgf=padding.MGF1(algorithm=hashes.SHA256()),\n",
    "                algorithm=hashes.SHA256(),\n",
    "                label=None\n",
    "            )\n",
    "        )\n",
    "        plaintext = private_key.decrypt(\n",
    "            ciphertext,\n",
    "            padding.OAEP(\n",
    "                mgf=padding.MGF1(algorithm=hashes.SHA256()),\n",
    "                algorithm=hashes.SHA256(),\n",
    "                label=None\n",
    "            )\n",
    "        )\n",
    "        end_time = time.time()\n",
    "        times.append(end_time - start_time)\n",
    "    return times\n",
    "\n",
    "\n",
    "print(\"AES Times:\", time_aes(file_sizes_aes))\n",
    "print(\"SHA Times:\", time_sha(file_sizes_sha))\n",
    "print(\"RSA Times:\", time_rsa(file_sizes_rsa))\n"
   ]
  },
  {
   "cell_type": "markdown",
   "metadata": {},
   "source": [
    "-------------------------------------------------------------------------------------------------------------------------------------"
   ]
  },
  {
   "cell_type": "markdown",
   "metadata": {},
   "source": [
    "E. Prepare a report of your observations, including the following information:\n",
    "- Code implemented for points b., c., and d. above\n",
    "- Brief explanation of the main components of the code (the rest should be submitted in a separate compressed\n",
    "file)\n",
    "- Explain how you generated/obtained the results – must be statistically significant. This must include a\n",
    "description of the experimental setup (e.g. computer characteristics, OS, software versions).\n",
    "- Plots showing: (i) AES encryption/decryption times; (ii) RSA encryption times; (iii) RSA decryption times;\n",
    "and (iv) SHA digests generation times (plots can be combined for easier comparison). In these graphs, the\n",
    "X axis should plot the file sizes in units of bytes, and the Y axis should plot time measurements in units of\n",
    "microseconds (us).\n",
    "1\n",
    "- The report should also analyze and explain the performance results of:\n",
    "    - Comparison between AES encryption and RSA encryption.\n",
    "    - Comparison between AES encryption and SHA digest generation.\n",
    "    - Comparison between RSA encryption and decryption times."
   ]
  },
  {
   "cell_type": "markdown",
   "metadata": {},
   "source": []
  }
 ],
 "metadata": {
  "kernelspec": {
   "display_name": "Python 3",
   "language": "python",
   "name": "python3"
  },
  "language_info": {
   "codemirror_mode": {
    "name": "ipython",
    "version": 3
   },
   "file_extension": ".py",
   "mimetype": "text/x-python",
   "name": "python",
   "nbconvert_exporter": "python",
   "pygments_lexer": "ipython3",
   "version": "3.9.6"
  }
 },
 "nbformat": 4,
 "nbformat_minor": 2
}
