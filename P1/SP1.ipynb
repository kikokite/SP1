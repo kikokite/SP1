{
 "cells": [
  {
   "cell_type": "markdown",
   "metadata": {},
   "source": [
    "# Security & Privacy (CC2009) - 2023/2024\n",
    "\n",
    "## ASSIGNMENT #1: Performance Benchmarking of Cryptographic Mechanisms\n",
    "\n",
    "### Due date: March 22, 23:59\n",
    "### Grading: Assignment #1 is worth 2 points"
   ]
  },
  {
   "cell_type": "code",
   "execution_count": 1,
   "metadata": {},
   "outputs": [
    {
     "name": "stdout",
     "output_type": "stream",
     "text": [
      "AES Times: [0.001834869384765625, 0.0001049041748046875, 4.291534423828125e-05, 4.1961669921875e-05, 0.00013327598571777344, 0.0007219314575195312, 0.006161212921142578]\n",
      "SHA Times: [0.0002968311309814453, 6.9141387939453125e-06, 3.814697265625e-06, 1.3113021850585938e-05, 1.7881393432617188e-05, 0.00011205673217773438, 0.0008819103240966797]\n",
      "RSA Times: [0.0025560855865478516, 0.0011568069458007812, 0.0011432170867919922, 0.0011410713195800781, 0.00109100341796875, 0.0010707378387451172, 0.001094818115234375]\n"
     ]
    }
   ],
   "source": [
    "import time\n",
    "from cryptography.hazmat.backends import default_backend\n",
    "from cryptography.hazmat.primitives import hashes\n",
    "from cryptography.hazmat.primitives.asymmetric import rsa\n",
    "from cryptography.hazmat.primitives import serialization\n",
    "from cryptography.hazmat.primitives.asymmetric import padding\n",
    "from cryptography.hazmat.primitives.ciphers import Cipher, algorithms, modes\n",
    "import os\n",
    "\n",
    "def generate_random_text_file(size_bytes):\n",
    "    return os.urandom(size_bytes)\n",
    "\n",
    "def time_aes(file_sizes):\n",
    "    backend = default_backend()\n",
    "    key = os.urandom(32)  # 256-bit key\n",
    "    iv = os.urandom(16)   # 128-bit IV\n",
    "    times = []\n",
    "    for size in file_sizes:\n",
    "        data = generate_random_text_file(size)\n",
    "        start_time = time.time()\n",
    "        cipher = Cipher(algorithms.AES(key), modes.CFB(iv), backend=backend)\n",
    "        encryptor = cipher.encryptor()\n",
    "        ciphertext = encryptor.update(data) + encryptor.finalize()\n",
    "        decryptor = cipher.decryptor()\n",
    "        plaintext = decryptor.update(ciphertext) + decryptor.finalize()\n",
    "        end_time = time.time()\n",
    "        times.append(end_time - start_time)\n",
    "    return times\n",
    "\n",
    "def time_sha(file_sizes):\n",
    "    times = []\n",
    "    for size in file_sizes:\n",
    "        data = generate_random_text_file(size)\n",
    "        start_time = time.time()\n",
    "        hash_obj = hashes.Hash(hashes.SHA256())\n",
    "        hash_obj.update(data)\n",
    "        hash_result = hash_obj.finalize()\n",
    "        end_time = time.time()\n",
    "        times.append(end_time - start_time)\n",
    "    return times\n",
    "\n",
    "def time_rsa(file_sizes):\n",
    "    private_key = rsa.generate_private_key(\n",
    "        public_exponent=65537,\n",
    "        key_size=2048,\n",
    "        backend=default_backend()\n",
    "    )\n",
    "    public_key = private_key.public_key()\n",
    "    times = []\n",
    "    for size in file_sizes:\n",
    "        data = generate_random_text_file(size)\n",
    "        start_time = time.time()\n",
    "        ciphertext = public_key.encrypt(\n",
    "            data,\n",
    "            padding.OAEP(\n",
    "                mgf=padding.MGF1(algorithm=hashes.SHA256()),\n",
    "                algorithm=hashes.SHA256(),\n",
    "                label=None\n",
    "            )\n",
    "        )\n",
    "        plaintext = private_key.decrypt(\n",
    "            ciphertext,\n",
    "            padding.OAEP(\n",
    "                mgf=padding.MGF1(algorithm=hashes.SHA256()),\n",
    "                algorithm=hashes.SHA256(),\n",
    "                label=None\n",
    "            )\n",
    "        )\n",
    "        end_time = time.time()\n",
    "        times.append(end_time - start_time)\n",
    "    return times\n",
    "\n",
    "# Sizes in bytes\n",
    "file_sizes_aes = [8, 64, 512, 4096, 32768, 262144, 2097152]\n",
    "file_sizes_sha = [8, 64, 512, 4096, 32768, 262144, 2097152]\n",
    "file_sizes_rsa = [2, 4, 8, 16, 32, 64, 128]\n",
    "\n",
    "print(\"AES Times:\", time_aes(file_sizes_aes))\n",
    "print(\"SHA Times:\", time_sha(file_sizes_sha))\n",
    "print(\"RSA Times:\", time_rsa(file_sizes_rsa))\n"
   ]
  }
 ],
 "metadata": {
  "kernelspec": {
   "display_name": "Python 3",
   "language": "python",
   "name": "python3"
  },
  "language_info": {
   "codemirror_mode": {
    "name": "ipython",
    "version": 3
   },
   "file_extension": ".py",
   "mimetype": "text/x-python",
   "name": "python",
   "nbconvert_exporter": "python",
   "pygments_lexer": "ipython3",
   "version": "3.9.6"
  }
 },
 "nbformat": 4,
 "nbformat_minor": 2
}
